{
 "cells": [
  {
   "cell_type": "markdown",
   "metadata": {},
   "source": [
    "# SVM: Support Vector Machines Exercise\n",
    "\n",
    "Pensez à copier le code fournis dans votre espace de travail au fur et à mesure!\n",
    "\n",
    "## Install dependencies\n",
    "Pour commencer, installez l'ensemble des dépendences qui seront utilisées:\n",
    "\n",
    "`pip install pandas numpy matplotlib sklearn`\n",
    "\n",
    "## Importer les librairies\n",
    "\n",
    "Voici les librairies dont vous aller avoir besoin tout au long de l'exercice :"
   ]
  },
  {
   "cell_type": "code",
   "execution_count": 1,
   "metadata": {},
   "outputs": [],
   "source": [
    "import pandas as pd\n",
    "import numpy as np\n",
    "import matplotlib.pyplot as plt\n",
    "from sklearn import model_selection\n",
    "from sklearn import svm"
   ]
  },
  {
   "cell_type": "markdown",
   "metadata": {},
   "source": [
    "## Load data\n",
    "Nous allons utiliser le fichier csv `data/data.csv`, il contient 3 colones: Exam 1 marks, Exam 2 marks et Admission status.\n",
    "Importez-le et stockez le dans une variable `data`."
   ]
  },
  {
   "cell_type": "code",
   "execution_count": null,
   "metadata": {},
   "outputs": [],
   "source": [
    "#TODO: importer les données dans une variable data"
   ]
  },
  {
   "cell_type": "markdown",
   "metadata": {},
   "source": [
    "## Clean the dataset\n",
    "Il y a certaines données manquantes, parcourez le csv et vérifiez que chaque êleves ont bien deux notes.\n",
    "Dans certains model, il pourrait être intéréssant de remplacer les données manquantes par la moyennes des autres:\n",
    "\n",
    "```python\n",
    "averageMark1 = data[\"Exam 1 marks\"].mean().astype(int)\n",
    "data[\"Exam 1 marks\"].fillna(averageMark1, inplace = True)\n",
    "````\n",
    "\n",
    "Dans notre cas, un éleve à qui il manque des notes doit être supprimer de nos analyses.\n",
    "\n",
    "Utilisez la fonction `dropna` pour supprimer les lignes avec des données manquantes."
   ]
  },
  {
   "cell_type": "code",
   "execution_count": null,
   "metadata": {},
   "outputs": [],
   "source": [
    "#TODO: supprimer les lignes avec des données manquantes"
   ]
  },
  {
   "cell_type": "code",
   "execution_count": null,
   "metadata": {},
   "outputs": [],
   "source": [
    "# A utilisez pour afficher le nombre de data :\n",
    "print(data.shape[0])"
   ]
  },
  {
   "cell_type": "markdown",
   "metadata": {},
   "source": [
    "## Data visualization\n",
    "\n",
    "Nous allons ici dessiner une représentation des données sous forme de nuage de points (cf fig.1 dans le readme).\n",
    "\n",
    "Nous allons dans un premier temps séparé les admis des non-admis:"
   ]
  },
  {
   "cell_type": "code",
   "execution_count": null,
   "metadata": {},
   "outputs": [],
   "source": [
    "data_admitted = data[data['Admission status'] == 1]\n",
    "\n",
    "#TODO : récuperer dans une variable data_notadmitted les élèves non-admis"
   ]
  },
  {
   "cell_type": "markdown",
   "metadata": {},
   "source": [
    "Reproduisez le avec le dataset actuel en complétant le bloc suivant (1 TODO = 1 ligne)"
   ]
  },
  {
   "cell_type": "code",
   "execution_count": null,
   "metadata": {},
   "outputs": [],
   "source": [
    "plt.figure(figsize=(10,6))\n",
    "#TODO: ajouter les élevès admis\n",
    "plt.scatter(df_notadmitted['Exam 1 marks'], df_notadmitted['Exam 2 marks'], color= 'red', label= 'Not Admitted Applicants')\n",
    "#TODO ajouter un label pour les élèves admis\n",
    "plt.ylabel('Exam 2 Marks')\n",
    "#TODO ajouter un titre à la figure\n",
    "plt.title(\"Admis vs non-admis\")\n",
    "plt.legend()\n",
    "#TODO afficher la figure"
   ]
  },
  {
   "cell_type": "markdown",
   "metadata": {},
   "source": [
    "# Voici le graphique que vous devez avoir affiché\n",
    "\n",
    "![output3](https://github.com/hbollon/svm-ml-exercise/blob/main/images/output3.png?raw=true)"
   ]
  },
  {
   "cell_type": "markdown",
   "metadata": {},
   "source": [
    "# Séparation des données\n",
    "\n",
    "Voici le code nécéssaire pour séparer les données en test et train avec la fonction `train_test_split`. Les données de test feront 20%.\n",
    "\n",
    "Il est à completer (1 #TODO = une ligne à complété)."
   ]
  },
  {
   "cell_type": "code",
   "execution_count": null,
   "metadata": {},
   "outputs": [],
   "source": [
    "X = data[['Exam 1 marks', 'Exam 2 marks']]\n",
    "y = data['Admission status']\n",
    "\n",
    "print('Shape of X= ', X.shape)\n",
    "print('Shape of y= ', y.shape)\n",
    "\n",
    "X_train, X_test, y_train, y_test = # TODO spliter les données en train et test avec model_selection\n",
    "\n",
    "print('X_train dimension= ', X_train.shape)\n",
    "print('X_test dimension= ', X_test.shape)\n",
    "print('y_train dimension= ', y_train.shape)\n",
    "print('y_test dimension= ', y_test.shape)"
   ]
  },
  {
   "cell_type": "markdown",
   "metadata": {},
   "source": [
    "## Train the model\n",
    "Maintenant que note dataset est nettoyé et que nous disposons des éléments nécéssaires nous pouvons entrainer notre modèle.\n",
    "Entrainez donc le modèle en utilisant un classifier SVM avec les paramètres par défaut."
   ]
  },
  {
   "cell_type": "code",
   "execution_count": null,
   "metadata": {},
   "outputs": [],
   "source": [
    "# TODO: Entrainer le model avec les données de data en utilisant SVM classifier de sklearn"
   ]
  },
  {
   "cell_type": "markdown",
   "metadata": {},
   "source": [
    "Vous pouvez regarder le score de votre model en utilisant la fonction `score` de votre model."
   ]
  }
 ],
 "metadata": {
  "interpreter": {
   "hash": "aee8b7b246df8f9039afb4144a1f6fd8d2ca17a180786b69acc140d282b71a49"
  },
  "kernelspec": {
   "display_name": "Python 3.9.9 64-bit",
   "language": "python",
   "name": "python3"
  },
  "language_info": {
   "codemirror_mode": {
    "name": "ipython",
    "version": 3
   },
   "file_extension": ".py",
   "mimetype": "text/x-python",
   "name": "python",
   "nbconvert_exporter": "python",
   "pygments_lexer": "ipython3",
   "version": "3.9.9"
  },
  "orig_nbformat": 4
 },
 "nbformat": 4,
 "nbformat_minor": 2
}
