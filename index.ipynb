{
 "cells": [
  {
   "cell_type": "markdown",
   "metadata": {},
   "source": [
    "# SVM: Support Vector Machines Exercise\n",
    "\n",
    "## Install dependencies\n",
    "Pour commencer, installez l'ensemble des dépendences qui seront utilisées:\n",
    "\n",
    "`pip install pandas numpy matplotlib sklearn`\n",
    "\n",
    "## Import librairies"
   ]
  },
  {
   "cell_type": "code",
   "execution_count": null,
   "metadata": {},
   "outputs": [],
   "source": [
    "import pandas as pd\n",
    "import numpy as np\n",
    "import matplotlib.pyplot as plt\n",
    "from sklearn import model_selection\n",
    "from sklearn import svm"
   ]
  },
  {
   "cell_type": "markdown",
   "metadata": {},
   "source": [
    "## Load data\n",
    "Nous allons utiliser le fichier csv `data/data.csv`, il contient 3 colones: Exam 1 marks, Exam 2 marks et Admission status."
   ]
  },
  {
   "cell_type": "code",
   "execution_count": null,
   "metadata": {},
   "outputs": [],
   "source": [
    "# TODO: Load the data"
   ]
  },
  {
   "cell_type": "markdown",
   "metadata": {},
   "source": [
    "## Clean the dataset\n",
    "Il y a certaines données manquantes, parcourez le csv et vérifiez que chaque êleves ont bien deux notes. Supprimez les le cas échéant."
   ]
  },
  {
   "cell_type": "code",
   "execution_count": null,
   "metadata": {},
   "outputs": [],
   "source": [
    "# TODO: Itereate on the csv and delete incompletes rows"
   ]
  },
  {
   "cell_type": "markdown",
   "metadata": {},
   "source": [
    "## Data visualization\n",
    "Nous allons ici dessiner une représentation des données sous forme de nuage de points (cf fig.1 dans le readme).\n",
    "Reproduisez le avec le dataset actuel en complétant le bloc suivant:"
   ]
  },
  {
   "cell_type": "code",
   "execution_count": null,
   "metadata": {},
   "outputs": [],
   "source": [
    "def plot_data(title):    \n",
    "    # TODO: Plot the data\n",
    "    plt.legend()\n",
    " \n",
    "plot_data(title = 'Admitted Vs Not Admitted Applicants')"
   ]
  },
  {
   "cell_type": "markdown",
   "metadata": {},
   "source": [
    "## Create Test And Train Dataset\n",
    "\n",
    "### Prepare dataset"
   ]
  },
  {
   "cell_type": "code",
   "execution_count": null,
   "metadata": {},
   "outputs": [],
   "source": [
    "X = df[['Exam 1 marks', 'Exam 2 marks']]\n",
    "y = df['Admission status']\n",
    "\n",
    "print('Shape of X= ', X.shape)\n",
    "print('Shape of y= ', y.shape)\n",
    "\n",
    "X_train, X_test, y_train, y_test = model_selection.train_test_split(X, y, test_size=0.2, random_state= 1)\n",
    "\n",
    "print('X_train dimension= ', X_train.shape)\n",
    "print('X_test dimension= ', X_test.shape)\n",
    "print('y_train dimension= ', y_train.shape)\n",
    "print('y_test dimension= ', y_test.shape)"
   ]
  },
  {
   "cell_type": "markdown",
   "metadata": {},
   "source": [
    "### Train the model\n",
    "Maintenant que note dataset est nettoyer et que nous disposons des éléments nécéssaires nous pouvons entrainer notre modèle.\n",
    "Entrainez donc le modèle en utilisant un classifier SVM avec les paramètres par défaut."
   ]
  },
  {
   "cell_type": "code",
   "execution_count": null,
   "metadata": {},
   "outputs": [],
   "source": [
    "# TODO: Train the model using SVM classifier"
   ]
  },
  {
   "cell_type": "markdown",
   "metadata": {},
   "source": [
    "### Visualize the results\n",
    "Afin de mieux visualiser les résultats, créons une fonction pour tracer la limite de décision du classifier SVM avec une margin:"
   ]
  },
  {
   "cell_type": "code",
   "execution_count": null,
   "metadata": {},
   "outputs": [],
   "source": [
    "def plot_support_vector(classifier):\n",
    "    \"\"\"\n",
    "    To plot decsion boundary and margin. Code taken from Sklearn documentation.\n",
    "\n",
    "    I/P\n",
    "    ----------\n",
    "    classifier : SVC object for each type of kernel\n",
    "\n",
    "    O/P\n",
    "    -------\n",
    "    Plot\n",
    "    \n",
    "    \"\"\"\n",
    "    clf =classifier\n",
    "    # plot the decision function\n",
    "    ax = plt.gca()\n",
    "    xlim = ax.get_xlim()\n",
    "    ylim = ax.get_ylim()\n",
    "\n",
    "    # create grid to evaluate model\n",
    "    xx = np.linspace(xlim[0], xlim[1], 30)\n",
    "    yy = np.linspace(ylim[0], ylim[1], 30)\n",
    "    YY, XX = np.meshgrid(yy, xx)\n",
    "    xy = np.vstack([XX.ravel(), YY.ravel()]).T\n",
    "    Z = clf.decision_function(xy).reshape(XX.shape)\n",
    "\n",
    "    # TODO: plot decision boundary and margins with ax.contour\n",
    "    \n",
    "    # TODO: plot support vectors with ax.scatter\n",
    "    \n",
    "plot_data(title = 'SVM Classifier With Default Parameters')\n",
    "plot_support_vector(clf)  "
   ]
  }
 ],
 "metadata": {
  "language_info": {
   "name": "python"
  },
  "orig_nbformat": 4
 },
 "nbformat": 4,
 "nbformat_minor": 2
}
